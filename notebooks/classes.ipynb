{
 "cells": [
  {
   "cell_type": "code",
   "execution_count": 3,
   "id": "4b0f09dd",
   "metadata": {},
   "outputs": [],
   "source": [
    "num_to_class = {0:'address_proof', 1:\"bank_statements\",2:\"business_proof\",3:\"employment_proof\",4:'fund_raising',5:'identity_proof',6:'invoices',7:'personal_finance_statement',8:'power_of_attorney',9:'receipts',10:'salary_slip',11:'tax_return'}"
   ]
  },
  {
   "cell_type": "code",
   "execution_count": 4,
   "id": "f3bd567f",
   "metadata": {},
   "outputs": [],
   "source": [
    "class_to_num = {'address_proof':0,\"bank_statements\":1,\"business_proof\":2,\"employment_proof\":3,'fund_raising':4,'identity_proof':5,'invoices':6,'personal_finance_statement':7,'power_of_attorney':8,'receipts':9,'salary_slip':10,'tax_return':11}"
   ]
  },
  {
   "cell_type": "code",
   "execution_count": 5,
   "id": "75ccca36",
   "metadata": {},
   "outputs": [
    {
     "data": {
      "text/plain": [
       "{0: 'address_proof',\n",
       " 1: 'bank_statements',\n",
       " 2: 'business_proof',\n",
       " 3: 'employment_proof',\n",
       " 4: 'fund_raising',\n",
       " 5: 'identity_proof',\n",
       " 6: 'invoices',\n",
       " 7: 'personal_finance_statement',\n",
       " 8: 'power_of_attorney',\n",
       " 9: 'receipts',\n",
       " 10: 'salary_slip',\n",
       " 11: 'tax_return'}"
      ]
     },
     "execution_count": 5,
     "metadata": {},
     "output_type": "execute_result"
    }
   ],
   "source": [
    "num_to_class"
   ]
  },
  {
   "cell_type": "code",
   "execution_count": 6,
   "id": "20fbbb81",
   "metadata": {},
   "outputs": [
    {
     "data": {
      "text/plain": [
       "{'address_proof': 0,\n",
       " 'bank_statements': 1,\n",
       " 'business_proof': 2,\n",
       " 'employment_proof': 3,\n",
       " 'fund_raising': 4,\n",
       " 'identity_proof': 5,\n",
       " 'invoices': 6,\n",
       " 'personal_finance_statement': 7,\n",
       " 'power_of_attorney': 8,\n",
       " 'receipts': 9,\n",
       " 'salary_slip': 10,\n",
       " 'tax_return': 11}"
      ]
     },
     "execution_count": 6,
     "metadata": {},
     "output_type": "execute_result"
    }
   ],
   "source": [
    "class_to_num"
   ]
  },
  {
   "cell_type": "code",
   "execution_count": null,
   "id": "04dc7f2c",
   "metadata": {},
   "outputs": [],
   "source": []
  }
 ],
 "metadata": {
  "kernelspec": {
   "display_name": "Python 3 (ipykernel)",
   "language": "python",
   "name": "python3"
  },
  "language_info": {
   "codemirror_mode": {
    "name": "ipython",
    "version": 3
   },
   "file_extension": ".py",
   "mimetype": "text/x-python",
   "name": "python",
   "nbconvert_exporter": "python",
   "pygments_lexer": "ipython3",
   "version": "3.9.12"
  }
 },
 "nbformat": 4,
 "nbformat_minor": 5
}
