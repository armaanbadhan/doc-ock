{
 "cells": [
  {
   "cell_type": "code",
   "execution_count": 329,
   "id": "45765225",
   "metadata": {},
   "outputs": [],
   "source": [
    "import pandas as pd\n",
    "import numpy as np\n",
    "\n",
    "import re\n",
    "\n",
    "from sklearn.model_selection import train_test_split\n",
    "from sklearn.feature_extraction.text import CountVectorizer\n",
    "from sklearn.naive_bayes import MultinomialNB\n",
    "from sklearn.metrics import accuracy_score"
   ]
  },
  {
   "cell_type": "code",
   "execution_count": 330,
   "id": "e02903dd",
   "metadata": {},
   "outputs": [],
   "source": [
    "# obtained by tesseract lib\n",
    "\n",
    "data = pd.read_csv('final_data.csv')"
   ]
  },
  {
   "cell_type": "code",
   "execution_count": 331,
   "id": "47d153ac",
   "metadata": {},
   "outputs": [
    {
     "data": {
      "text/plain": [
       "(423, 1)"
      ]
     },
     "execution_count": 331,
     "metadata": {},
     "output_type": "execute_result"
    }
   ],
   "source": [
    "data.shape"
   ]
  },
  {
   "cell_type": "code",
   "execution_count": 332,
   "id": "09a4ac73",
   "metadata": {},
   "outputs": [
    {
     "data": {
      "text/html": [
       "<div>\n",
       "<style scoped>\n",
       "    .dataframe tbody tr th:only-of-type {\n",
       "        vertical-align: middle;\n",
       "    }\n",
       "\n",
       "    .dataframe tbody tr th {\n",
       "        vertical-align: top;\n",
       "    }\n",
       "\n",
       "    .dataframe thead th {\n",
       "        text-align: right;\n",
       "    }\n",
       "</style>\n",
       "<table border=\"1\" class=\"dataframe\">\n",
       "  <thead>\n",
       "    <tr style=\"text-align: right;\">\n",
       "      <th></th>\n",
       "      <th>Text</th>\n",
       "    </tr>\n",
       "  </thead>\n",
       "  <tbody>\n",
       "    <tr>\n",
       "      <th>0</th>\n",
       "      <td>3 To,Charlie KaufmanVerification Department He...</td>\n",
       "    </tr>\n",
       "    <tr>\n",
       "      <th>1</th>\n",
       "      <td>6        AnyCompany Inc. DATE [Jun 47, 2019Sui...</td>\n",
       "    </tr>\n",
       "    <tr>\n",
       "      <th>2</th>\n",
       "      <td>9 THE AIML StORE1234 SOMEWHERE ROPOWAY, CALIFO...</td>\n",
       "    </tr>\n",
       "    <tr>\n",
       "      <th>3</th>\n",
       "      <td>1  Page 1ofS 03/02/2022DC —_ 1090001004290 ais...</td>\n",
       "    </tr>\n",
       "    <tr>\n",
       "      <th>4</th>\n",
       "      <td>9 THE AIML StORE1234 SOMEWHERE ROPOWAY, CALIFO...</td>\n",
       "    </tr>\n",
       "  </tbody>\n",
       "</table>\n",
       "</div>"
      ],
      "text/plain": [
       "                                                Text\n",
       "0  3 To,Charlie KaufmanVerification Department He...\n",
       "1  6        AnyCompany Inc. DATE [Jun 47, 2019Sui...\n",
       "2  9 THE AIML StORE1234 SOMEWHERE ROPOWAY, CALIFO...\n",
       "3  1  Page 1ofS 03/02/2022DC —_ 1090001004290 ais...\n",
       "4  9 THE AIML StORE1234 SOMEWHERE ROPOWAY, CALIFO..."
      ]
     },
     "execution_count": 332,
     "metadata": {},
     "output_type": "execute_result"
    }
   ],
   "source": [
    "data.head()"
   ]
  },
  {
   "cell_type": "code",
   "execution_count": 333,
   "id": "4900aa64",
   "metadata": {},
   "outputs": [
    {
     "data": {
      "text/html": [
       "<div>\n",
       "<style scoped>\n",
       "    .dataframe tbody tr th:only-of-type {\n",
       "        vertical-align: middle;\n",
       "    }\n",
       "\n",
       "    .dataframe tbody tr th {\n",
       "        vertical-align: top;\n",
       "    }\n",
       "\n",
       "    .dataframe thead th {\n",
       "        text-align: right;\n",
       "    }\n",
       "</style>\n",
       "<table border=\"1\" class=\"dataframe\">\n",
       "  <thead>\n",
       "    <tr style=\"text-align: right;\">\n",
       "      <th></th>\n",
       "      <th>Text</th>\n",
       "    </tr>\n",
       "  </thead>\n",
       "  <tbody>\n",
       "    <tr>\n",
       "      <th>418</th>\n",
       "      <td>7 Personal Financial StatementNAME BIRTHDAY (M...</td>\n",
       "    </tr>\n",
       "    <tr>\n",
       "      <th>419</th>\n",
       "      <td>7 DF The Commonwealth of Massachusetts(1)(2)(3...</td>\n",
       "    </tr>\n",
       "    <tr>\n",
       "      <th>420</th>\n",
       "      <td>11 Schedule F (Form 1040) 2020Page 2Farm Incom...</td>\n",
       "    </tr>\n",
       "    <tr>\n",
       "      <th>421</th>\n",
       "      <td>7 PERSONAL FINANCIAL STATEMENTSection 1(b) - O...</td>\n",
       "    </tr>\n",
       "    <tr>\n",
       "      <th>422</th>\n",
       "      <td>11 Form 1040 (2021) Page 2                    ...</td>\n",
       "    </tr>\n",
       "  </tbody>\n",
       "</table>\n",
       "</div>"
      ],
      "text/plain": [
       "                                                  Text\n",
       "418  7 Personal Financial StatementNAME BIRTHDAY (M...\n",
       "419  7 DF The Commonwealth of Massachusetts(1)(2)(3...\n",
       "420  11 Schedule F (Form 1040) 2020Page 2Farm Incom...\n",
       "421  7 PERSONAL FINANCIAL STATEMENTSection 1(b) - O...\n",
       "422  11 Form 1040 (2021) Page 2                    ..."
      ]
     },
     "execution_count": 333,
     "metadata": {},
     "output_type": "execute_result"
    }
   ],
   "source": [
    "data.tail()"
   ]
  },
  {
   "cell_type": "code",
   "execution_count": 334,
   "id": "3e9d3577",
   "metadata": {},
   "outputs": [
    {
     "data": {
      "text/plain": [
       "Text    0\n",
       "dtype: int64"
      ]
     },
     "execution_count": 334,
     "metadata": {},
     "output_type": "execute_result"
    }
   ],
   "source": [
    "data.isnull().sum()"
   ]
  },
  {
   "cell_type": "code",
   "execution_count": 335,
   "id": "a2e6ffeb",
   "metadata": {},
   "outputs": [],
   "source": [
    "def get_label(text):\n",
    "    k=''\n",
    "    for i in text:\n",
    "        if i==' ':\n",
    "            return int(k)\n",
    "        k+=i"
   ]
  },
  {
   "cell_type": "code",
   "execution_count": 336,
   "id": "0c4df97a",
   "metadata": {},
   "outputs": [],
   "source": [
    "data['label'] = data['Text'].apply(lambda x: get_label(x))\n",
    "data[\"Text\"] = data['Text'].str[1:]"
   ]
  },
  {
   "cell_type": "code",
   "execution_count": 337,
   "id": "6b8826b8",
   "metadata": {},
   "outputs": [
    {
     "data": {
      "text/plain": [
       "<AxesSubplot:>"
      ]
     },
     "execution_count": 337,
     "metadata": {},
     "output_type": "execute_result"
    },
    {
     "data": {
      "image/png": "[encoded data removed]",
      "text/plain": [
       "<Figure size 432x288 with 1 Axes>"
      ]
     },
     "metadata": {
      "needs_background": "light"
     },
     "output_type": "display_data"
    }
   ],
   "source": [
    "data.label.value_counts().plot(kind='bar')"
   ]
  },
  {
   "cell_type": "code",
   "execution_count": 338,
   "id": "cac2136b",
   "metadata": {},
   "outputs": [
    {
     "data": {
      "text/plain": [
       "(423, 2)"
      ]
     },
     "execution_count": 338,
     "metadata": {},
     "output_type": "execute_result"
    }
   ],
   "source": [
    "mapping = {0:'address_proof', 1:\"bank_statements\",2:\"business_proof\",3:\"employment_proof\",4:'fund_raising',5:'identity_proof',6:'invoices',7:'personal_finance_statement',8:'power_of_attorney',9:'receipts',10:'salary_slip',11:'tax_return'}\n",
    "data['label'].replace(mapping,inplace = True)\n",
    "\n",
    "\n",
    "data.shape"
   ]
  },
  {
   "cell_type": "code",
   "execution_count": 339,
   "id": "2597d487",
   "metadata": {},
   "outputs": [
    {
     "data": {
      "text/html": [
       "<div>\n",
       "<style scoped>\n",
       "    .dataframe tbody tr th:only-of-type {\n",
       "        vertical-align: middle;\n",
       "    }\n",
       "\n",
       "    .dataframe tbody tr th {\n",
       "        vertical-align: top;\n",
       "    }\n",
       "\n",
       "    .dataframe thead th {\n",
       "        text-align: right;\n",
       "    }\n",
       "</style>\n",
       "<table border=\"1\" class=\"dataframe\">\n",
       "  <thead>\n",
       "    <tr style=\"text-align: right;\">\n",
       "      <th></th>\n",
       "      <th>Text</th>\n",
       "      <th>label</th>\n",
       "    </tr>\n",
       "  </thead>\n",
       "  <tbody>\n",
       "    <tr>\n",
       "      <th>0</th>\n",
       "      <td>To,Charlie KaufmanVerification Department Hea...</td>\n",
       "      <td>employment_proof</td>\n",
       "    </tr>\n",
       "    <tr>\n",
       "      <th>1</th>\n",
       "      <td>AnyCompany Inc. DATE [Jun 47, 2019Suit...</td>\n",
       "      <td>invoices</td>\n",
       "    </tr>\n",
       "    <tr>\n",
       "      <th>2</th>\n",
       "      <td>THE AIML StORE1234 SOMEWHERE ROPOWAY, CALIFOR...</td>\n",
       "      <td>receipts</td>\n",
       "    </tr>\n",
       "    <tr>\n",
       "      <th>3</th>\n",
       "      <td>Page 1ofS 03/02/2022DC —_ 1090001004290 ais)...</td>\n",
       "      <td>bank_statements</td>\n",
       "    </tr>\n",
       "    <tr>\n",
       "      <th>4</th>\n",
       "      <td>THE AIML StORE1234 SOMEWHERE ROPOWAY, CALIFOR...</td>\n",
       "      <td>receipts</td>\n",
       "    </tr>\n",
       "  </tbody>\n",
       "</table>\n",
       "</div>"
      ],
      "text/plain": [
       "                                                Text             label\n",
       "0   To,Charlie KaufmanVerification Department Hea...  employment_proof\n",
       "1          AnyCompany Inc. DATE [Jun 47, 2019Suit...          invoices\n",
       "2   THE AIML StORE1234 SOMEWHERE ROPOWAY, CALIFOR...          receipts\n",
       "3    Page 1ofS 03/02/2022DC —_ 1090001004290 ais)...   bank_statements\n",
       "4   THE AIML StORE1234 SOMEWHERE ROPOWAY, CALIFOR...          receipts"
      ]
     },
     "execution_count": 339,
     "metadata": {},
     "output_type": "execute_result"
    }
   ],
   "source": [
    "data.head()"
   ]
  },
  {
   "cell_type": "code",
   "execution_count": 340,
   "id": "2b6c3709",
   "metadata": {},
   "outputs": [
    {
     "data": {
      "text/html": [
       "<div>\n",
       "<style scoped>\n",
       "    .dataframe tbody tr th:only-of-type {\n",
       "        vertical-align: middle;\n",
       "    }\n",
       "\n",
       "    .dataframe tbody tr th {\n",
       "        vertical-align: top;\n",
       "    }\n",
       "\n",
       "    .dataframe thead th {\n",
       "        text-align: right;\n",
       "    }\n",
       "</style>\n",
       "<table border=\"1\" class=\"dataframe\">\n",
       "  <thead>\n",
       "    <tr style=\"text-align: right;\">\n",
       "      <th></th>\n",
       "      <th>Text</th>\n",
       "      <th>label</th>\n",
       "    </tr>\n",
       "  </thead>\n",
       "  <tbody>\n",
       "    <tr>\n",
       "      <th>418</th>\n",
       "      <td>Personal Financial StatementNAME BIRTHDAY (MM...</td>\n",
       "      <td>personal_finance_statement</td>\n",
       "    </tr>\n",
       "    <tr>\n",
       "      <th>419</th>\n",
       "      <td>DF The Commonwealth of Massachusetts(1)(2)(3)...</td>\n",
       "      <td>personal_finance_statement</td>\n",
       "    </tr>\n",
       "    <tr>\n",
       "      <th>420</th>\n",
       "      <td>1 Schedule F (Form 1040) 2020Page 2Farm Income...</td>\n",
       "      <td>tax_return</td>\n",
       "    </tr>\n",
       "    <tr>\n",
       "      <th>421</th>\n",
       "      <td>PERSONAL FINANCIAL STATEMENTSection 1(b) - Ot...</td>\n",
       "      <td>personal_finance_statement</td>\n",
       "    </tr>\n",
       "    <tr>\n",
       "      <th>422</th>\n",
       "      <td>1 Form 1040 (2021) Page 2                     ...</td>\n",
       "      <td>tax_return</td>\n",
       "    </tr>\n",
       "  </tbody>\n",
       "</table>\n",
       "</div>"
      ],
      "text/plain": [
       "                                                  Text  \\\n",
       "418   Personal Financial StatementNAME BIRTHDAY (MM...   \n",
       "419   DF The Commonwealth of Massachusetts(1)(2)(3)...   \n",
       "420  1 Schedule F (Form 1040) 2020Page 2Farm Income...   \n",
       "421   PERSONAL FINANCIAL STATEMENTSection 1(b) - Ot...   \n",
       "422  1 Form 1040 (2021) Page 2                     ...   \n",
       "\n",
       "                          label  \n",
       "418  personal_finance_statement  \n",
       "419  personal_finance_statement  \n",
       "420                  tax_return  \n",
       "421  personal_finance_statement  \n",
       "422                  tax_return  "
      ]
     },
     "execution_count": 340,
     "metadata": {},
     "output_type": "execute_result"
    }
   ],
   "source": [
    "data.tail()"
   ]
  },
  {
   "cell_type": "code",
   "execution_count": 341,
   "id": "2200334c",
   "metadata": {},
   "outputs": [],
   "source": [
    "mapping = {0:'address_proof', 1:\"bank_statements\",2:\"business_proof\",3:\"employment_proof\",4:'fund_raising',5:'identity_proof',6:'invoices',7:'personal_finance_statement',8:'power_of_attorney',9:'receipts',10:'salary_slip',11:'tax_return'}\n",
    "data['label'].replace(mapping,inplace = True)"
   ]
  },
  {
   "cell_type": "code",
   "execution_count": 342,
   "id": "ab7922eb",
   "metadata": {},
   "outputs": [
    {
     "data": {
      "text/plain": [
       "<AxesSubplot:>"
      ]
     },
     "execution_count": 342,
     "metadata": {},
     "output_type": "execute_result"
    },
    {
     "data": {
      "image/png": "[encoded data removed]",
      "text/plain": [
       "<Figure size 432x288 with 1 Axes>"
      ]
     },
     "metadata": {
      "needs_background": "light"
     },
     "output_type": "display_data"
    }
   ],
   "source": [
    "data.label.value_counts().plot(kind='bar')"
   ]
  },
  {
   "cell_type": "code",
   "execution_count": 343,
   "id": "15b7e7e8",
   "metadata": {},
   "outputs": [
    {
     "data": {
      "text/plain": [
       "bank_statements               112\n",
       "receipts                      103\n",
       "invoices                      100\n",
       "tax_return                     32\n",
       "personal_finance_statement     23\n",
       "salary_slip                    11\n",
       "employment_proof               10\n",
       "address_proof                  10\n",
       "identity_proof                  8\n",
       "power_of_attorney               6\n",
       "business_proof                  5\n",
       "fund_raising                    3\n",
       "Name: label, dtype: int64"
      ]
     },
     "execution_count": 343,
     "metadata": {},
     "output_type": "execute_result"
    }
   ],
   "source": [
    "data.label.value_counts()"
   ]
  },
  {
   "cell_type": "code",
   "execution_count": 344,
   "id": "be260c9f",
   "metadata": {},
   "outputs": [],
   "source": [
    "data['Text'] = data['Text'].replace(r'[^A-Za-z0-9 ]+', '')\n",
    "data['Text'] = data['Text'].apply (lambda x: re.sub(r\"((?<=^)|(?<= )).((?=$)|(?= ))\", '', x).strip())\n",
    "\n",
    "# replacing the punctuations and the other sindle lettered words\n",
    "# "
   ]
  },
  {
   "cell_type": "code",
   "execution_count": 345,
   "id": "9db5841a",
   "metadata": {},
   "outputs": [],
   "source": [
    "vectorizer = CountVectorizer(stop_words='english') \n",
    "\n",
    "# for counting the frequencies of words"
   ]
  },
  {
   "cell_type": "code",
   "execution_count": 346,
   "id": "28cef5a9",
   "metadata": {},
   "outputs": [],
   "source": [
    "x = data['Text']\n",
    "y = data['label']"
   ]
  },
  {
   "cell_type": "code",
   "execution_count": 347,
   "id": "1fcff96c",
   "metadata": {},
   "outputs": [],
   "source": [
    "x_train, x_test, y_train,y_test = train_test_split(x, y, test_size=0.2, random_state = 88)\n",
    "\n",
    "\n",
    "#"
   ]
  },
  {
   "cell_type": "code",
   "execution_count": 348,
   "id": "da89841b",
   "metadata": {},
   "outputs": [
    {
     "data": {
      "text/plain": [
       "<423x12289 sparse matrix of type '<class 'numpy.int64'>'\n",
       "\twith 38497 stored elements in Compressed Sparse Row format>"
      ]
     },
     "execution_count": 348,
     "metadata": {},
     "output_type": "execute_result"
    }
   ],
   "source": [
    "x_vec = vectorizer.fit_transform(x)\n",
    "x_vec"
   ]
  },
  {
   "cell_type": "code",
   "execution_count": 349,
   "id": "9ead670c",
   "metadata": {},
   "outputs": [],
   "source": [
    "model = MultinomialNB()"
   ]
  },
  {
   "cell_type": "code",
   "execution_count": 350,
   "id": "9e7b43a8",
   "metadata": {},
   "outputs": [
    {
     "data": {
      "text/plain": [
       "MultinomialNB()"
      ]
     },
     "execution_count": 350,
     "metadata": {},
     "output_type": "execute_result"
    }
   ],
   "source": [
    "model.fit(x_vec,y)"
   ]
  },
  {
   "cell_type": "code",
   "execution_count": 351,
   "id": "7dc850f4",
   "metadata": {},
   "outputs": [
    {
     "data": {
      "text/plain": [
       "array(['employment_proof', 'invoices', 'receipts', 'bank_statements',\n",
       "       'receipts', 'bank_statements', 'address_proof', 'bank_statements',\n",
       "       'receipts', 'receipts', 'invoices', 'receipts', 'business_proof',\n",
       "       'receipts', 'receipts', 'receipts', 'bank_statements',\n",
       "       'bank_statements', 'power_of_attorney', 'bank_statements',\n",
       "       'receipts', 'invoices', 'receipts', 'receipts', 'invoices',\n",
       "       'receipts', 'tax_return', 'receipts', 'employment_proof',\n",
       "       'bank_statements', 'bank_statements', 'salary_slip',\n",
       "       'bank_statements', 'receipts', 'address_proof', 'salary_slip',\n",
       "       'invoices', 'receipts', 'bank_statements', 'receipts', 'invoices',\n",
       "       'invoices', 'receipts', 'bank_statements', 'identity_proof',\n",
       "       'power_of_attorney', 'bank_statements', 'tax_return', 'receipts',\n",
       "       'bank_statements', 'bank_statements', 'bank_statements',\n",
       "       'receipts', 'bank_statements', 'invoices', 'invoices', 'invoices',\n",
       "       'salary_slip', 'invoices', 'receipts', 'invoices',\n",
       "       'bank_statements', 'bank_statements', 'bank_statements',\n",
       "       'receipts', 'bank_statements', 'bank_statements', 'receipts',\n",
       "       'invoices', 'invoices', 'fund_raising', 'bank_statements',\n",
       "       'invoices', 'fund_raising', 'invoices', 'invoices',\n",
       "       'employment_proof', 'bank_statements', 'bank_statements',\n",
       "       'bank_statements', 'receipts', 'invoices', 'invoices', 'invoices',\n",
       "       'bank_statements', 'receipts', 'bank_statements',\n",
       "       'employment_proof', 'invoices', 'employment_proof', 'tax_return',\n",
       "       'receipts', 'invoices', 'receipts', 'bank_statements', 'invoices',\n",
       "       'receipts', 'invoices', 'bank_statements', 'receipts', 'invoices',\n",
       "       'employment_proof', 'receipts', 'invoices', 'invoices', 'receipts',\n",
       "       'bank_statements', 'bank_statements', 'bank_statements',\n",
       "       'bank_statements', 'bank_statements', 'invoices', 'invoices',\n",
       "       'identity_proof', 'receipts', 'address_proof', 'employment_proof',\n",
       "       'bank_statements', 'bank_statements', 'invoices', 'receipts',\n",
       "       'bank_statements', 'bank_statements', 'receipts',\n",
       "       'bank_statements', 'invoices', 'bank_statements', 'invoices',\n",
       "       'invoices', 'receipts', 'address_proof', 'invoices', 'receipts',\n",
       "       'receipts', 'bank_statements', 'bank_statements', 'invoices',\n",
       "       'bank_statements', 'bank_statements', 'receipts', 'invoices',\n",
       "       'invoices', 'tax_return', 'bank_statements', 'bank_statements',\n",
       "       'receipts', 'receipts', 'receipts', 'invoices', 'invoices',\n",
       "       'tax_return', 'salary_slip', 'receipts', 'receipts', 'receipts',\n",
       "       'invoices', 'receipts', 'receipts', 'bank_statements',\n",
       "       'bank_statements', 'receipts', 'invoices', 'invoices', 'receipts',\n",
       "       'bank_statements', 'invoices', 'business_proof', 'bank_statements',\n",
       "       'invoices', 'bank_statements', 'bank_statements',\n",
       "       'power_of_attorney', 'invoices', 'bank_statements',\n",
       "       'bank_statements', 'tax_return', 'receipts', 'invoices',\n",
       "       'salary_slip', 'invoices', 'bank_statements', 'receipts',\n",
       "       'power_of_attorney', 'bank_statements', 'bank_statements',\n",
       "       'receipts', 'receipts', 'invoices', 'invoices', 'bank_statements',\n",
       "       'receipts', 'invoices', 'address_proof', 'bank_statements',\n",
       "       'invoices', 'bank_statements', 'bank_statements', 'identity_proof',\n",
       "       'bank_statements', 'invoices', 'receipts', 'invoices', 'invoices',\n",
       "       'receipts', 'bank_statements', 'bank_statements',\n",
       "       'bank_statements', 'invoices', 'invoices', 'invoices', 'receipts',\n",
       "       'bank_statements', 'invoices', 'receipts', 'invoices', 'invoices',\n",
       "       'bank_statements', 'invoices', 'invoices', 'business_proof',\n",
       "       'bank_statements', 'bank_statements', 'bank_statements',\n",
       "       'invoices', 'invoices', 'invoices', 'receipts', 'bank_statements',\n",
       "       'bank_statements', 'power_of_attorney', 'receipts', 'receipts',\n",
       "       'receipts', 'invoices', 'employment_proof', 'invoices',\n",
       "       'bank_statements', 'receipts', 'receipts', 'salary_slip',\n",
       "       'receipts', 'receipts', 'bank_statements', 'receipts', 'invoices',\n",
       "       'bank_statements', 'receipts', 'invoices', 'receipts', 'invoices',\n",
       "       'bank_statements', 'bank_statements', 'bank_statements',\n",
       "       'invoices', 'receipts', 'address_proof', 'bank_statements',\n",
       "       'receipts', 'bank_statements', 'bank_statements',\n",
       "       'bank_statements', 'identity_proof', 'receipts', 'bank_statements',\n",
       "       'bank_statements', 'business_proof', 'receipts', 'bank_statements',\n",
       "       'receipts', 'invoices', 'receipts', 'invoices', 'bank_statements',\n",
       "       'invoices', 'address_proof', 'salary_slip', 'invoices',\n",
       "       'address_proof', 'invoices', 'bank_statements', 'bank_statements',\n",
       "       'bank_statements', 'bank_statements', 'invoices',\n",
       "       'employment_proof', 'employment_proof', 'invoices', 'receipts',\n",
       "       'address_proof', 'invoices', 'bank_statements', 'tax_return',\n",
       "       'receipts', 'receipts', 'receipts', 'bank_statements',\n",
       "       'salary_slip', 'invoices', 'invoices', 'identity_proof',\n",
       "       'bank_statements', 'invoices', 'receipts', 'bank_statements',\n",
       "       'bank_statements', 'invoices', 'invoices', 'bank_statements',\n",
       "       'business_proof', 'invoices', 'bank_statements', 'bank_statements',\n",
       "       'receipts', 'invoices', 'receipts', 'receipts', 'invoices',\n",
       "       'invoices', 'salary_slip', 'receipts', 'receipts', 'invoices',\n",
       "       'address_proof', 'bank_statements', 'receipts', 'invoices',\n",
       "       'bank_statements', 'tax_return', 'receipts', 'bank_statements',\n",
       "       'bank_statements', 'invoices', 'bank_statements', 'invoices',\n",
       "       'receipts', 'receipts', 'receipts', 'bank_statements', 'receipts',\n",
       "       'receipts', 'invoices', 'receipts', 'invoices', 'receipts',\n",
       "       'invoices', 'bank_statements', 'bank_statements',\n",
       "       'bank_statements', 'invoices', 'invoices', 'receipts', 'receipts',\n",
       "       'receipts', 'bank_statements', 'receipts', 'receipts',\n",
       "       'bank_statements', 'bank_statements', 'bank_statements',\n",
       "       'receipts', 'invoices', 'bank_statements', 'invoices', 'receipts',\n",
       "       'salary_slip', 'receipts', 'invoices', 'receipts', 'receipts',\n",
       "       'bank_statements', 'address_proof', 'invoices', 'bank_statements',\n",
       "       'receipts', 'tax_return', 'tax_return',\n",
       "       'personal_finance_statement', 'tax_return',\n",
       "       'personal_finance_statement', 'personal_finance_statement',\n",
       "       'tax_return', 'tax_return', 'personal_finance_statement',\n",
       "       'personal_finance_statement', 'personal_finance_statement',\n",
       "       'personal_finance_statement', 'personal_finance_statement',\n",
       "       'tax_return', 'personal_finance_statement',\n",
       "       'personal_finance_statement', 'tax_return', 'tax_return',\n",
       "       'tax_return', 'personal_finance_statement', 'tax_return',\n",
       "       'tax_return', 'personal_finance_statement', 'tax_return',\n",
       "       'personal_finance_statement', 'personal_finance_statement',\n",
       "       'tax_return', 'personal_finance_statement',\n",
       "       'personal_finance_statement', 'personal_finance_statement',\n",
       "       'tax_return', 'tax_return', 'tax_return',\n",
       "       'personal_finance_statement', 'bank_statements',\n",
       "       'personal_finance_statement', 'power_of_attorney', 'tax_return',\n",
       "       'personal_finance_statement', 'personal_finance_statement',\n",
       "       'tax_return', 'personal_finance_statement', 'employment_proof',\n",
       "       'tax_return', 'personal_finance_statement',\n",
       "       'personal_finance_statement', 'tax_return',\n",
       "       'personal_finance_statement', 'tax_return'], dtype='<U26')"
      ]
     },
     "execution_count": 351,
     "metadata": {},
     "output_type": "execute_result"
    }
   ],
   "source": [
    "y_pred = model.predict(vectorizer.transform(x))\n",
    "y_pred"
   ]
  },
  {
   "cell_type": "code",
   "execution_count": 352,
   "id": "0c29993c",
   "metadata": {},
   "outputs": [
    {
     "name": "stdout",
     "output_type": "stream",
     "text": [
      "0.9787234042553191\n"
     ]
    }
   ],
   "source": [
    "print(accuracy_score(y,y_pred))"
   ]
  },
  {
   "cell_type": "code",
   "execution_count": null,
   "id": "8a161b7d",
   "metadata": {},
   "outputs": [],
   "source": []
  },
  {
   "cell_type": "code",
   "execution_count": 353,
   "id": "bade30e4",
   "metadata": {},
   "outputs": [
    {
     "data": {
      "text/html": [
       "<div>\n",
       "<style scoped>\n",
       "    .dataframe tbody tr th:only-of-type {\n",
       "        vertical-align: middle;\n",
       "    }\n",
       "\n",
       "    .dataframe tbody tr th {\n",
       "        vertical-align: top;\n",
       "    }\n",
       "\n",
       "    .dataframe thead th {\n",
       "        text-align: right;\n",
       "    }\n",
       "</style>\n",
       "<table border=\"1\" class=\"dataframe\">\n",
       "  <thead>\n",
       "    <tr style=\"text-align: right;\">\n",
       "      <th></th>\n",
       "      <th>Text</th>\n",
       "    </tr>\n",
       "  </thead>\n",
       "  <tbody>\n",
       "    <tr>\n",
       "      <th>0</th>\n",
       "      <td>Company Name or LetterheadAddressCity, State, ...</td>\n",
       "    </tr>\n",
       "  </tbody>\n",
       "</table>\n",
       "</div>"
      ],
      "text/plain": [
       "                                                Text\n",
       "0  Company Name or LetterheadAddressCity, State, ..."
      ]
     },
     "execution_count": 353,
     "metadata": {},
     "output_type": "execute_result"
    }
   ],
   "source": [
    "te = pd.read_csv('test.csv')\n",
    "te"
   ]
  },
  {
   "cell_type": "code",
   "execution_count": 354,
   "id": "f19e2754",
   "metadata": {},
   "outputs": [
    {
     "data": {
      "text/plain": [
       "Text    0\n",
       "dtype: int64"
      ]
     },
     "execution_count": 354,
     "metadata": {},
     "output_type": "execute_result"
    }
   ],
   "source": [
    "te.isnull().sum()"
   ]
  },
  {
   "cell_type": "code",
   "execution_count": 355,
   "id": "38fa75de",
   "metadata": {},
   "outputs": [
    {
     "data": {
      "text/plain": [
       "0    Company Name or LetterheadAddressCity, State, ...\n",
       "Name: Text, dtype: object"
      ]
     },
     "execution_count": 355,
     "metadata": {},
     "output_type": "execute_result"
    }
   ],
   "source": [
    "test = te['Text']\n",
    "test"
   ]
  },
  {
   "cell_type": "code",
   "execution_count": 356,
   "id": "8a3414cf",
   "metadata": {},
   "outputs": [
    {
     "data": {
      "text/plain": [
       "<1x12289 sparse matrix of type '<class 'numpy.int64'>'\n",
       "\twith 26 stored elements in Compressed Sparse Row format>"
      ]
     },
     "execution_count": 356,
     "metadata": {},
     "output_type": "execute_result"
    }
   ],
   "source": [
    "test_vec = vectorizer.transform(test)\n",
    "test_vec"
   ]
  },
  {
   "cell_type": "code",
   "execution_count": null,
   "id": "96db2d10",
   "metadata": {},
   "outputs": [],
   "source": []
  },
  {
   "cell_type": "code",
   "execution_count": 357,
   "id": "21437713",
   "metadata": {},
   "outputs": [
    {
     "data": {
      "text/plain": [
       "array(['tax_return'], dtype='<U26')"
      ]
     },
     "execution_count": 357,
     "metadata": {},
     "output_type": "execute_result"
    }
   ],
   "source": [
    "model.predict(vectorizer.transform(test))"
   ]
  },
  {
   "cell_type": "code",
   "execution_count": null,
   "id": "f9da9760",
   "metadata": {},
   "outputs": [],
   "source": []
  }
 ],
 "metadata": {
  "kernelspec": {
   "display_name": "Python 3 (ipykernel)",
   "language": "python",
   "name": "python3"
  },
  "language_info": {
   "codemirror_mode": {
    "name": "ipython",
    "version": 3
   },
   "file_extension": ".py",
   "mimetype": "text/x-python",
   "name": "python",
   "nbconvert_exporter": "python",
   "pygments_lexer": "ipython3",
   "version": "3.9.12"
  }
 },
 "nbformat": 4,
 "nbformat_minor": 5
}
