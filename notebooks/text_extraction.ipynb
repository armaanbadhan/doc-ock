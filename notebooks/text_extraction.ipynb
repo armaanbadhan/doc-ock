{
  "nbformat": 4,
  "nbformat_minor": 0,
  "metadata": {
    "colab": {
      "provenance": []
    },
    "kernelspec": {
      "name": "python3",
      "display_name": "Python 3"
    },
    "language_info": {
      "name": "python"
    }
  },
  "cells": [
    {
      "cell_type": "code",
      "source": [
        "!pip install pytesseract\n",
        "!sudo apt install tesseract-ocr"
      ],
      "metadata": {
        "colab": {
          "base_uri": "https://localhost:8080/"
        },
        "id": "VbkjrcOGtNuM",
        "outputId": "8be18f66-987e-486d-df8e-328463418782"
      },
      "execution_count": 1,
      "outputs": [
        {
          "output_type": "stream",
          "name": "stdout",
          "text": [
            "Looking in indexes: https://pypi.org/simple, https://us-python.pkg.dev/colab-wheels/public/simple/\n",
            "Requirement already satisfied: pytesseract in /usr/local/lib/python3.7/dist-packages (0.3.10)\n",
            "Requirement already satisfied: packaging>=21.3 in /usr/local/lib/python3.7/dist-packages (from pytesseract) (21.3)\n",
            "Requirement already satisfied: Pillow>=8.0.0 in /usr/local/lib/python3.7/dist-packages (from pytesseract) (9.3.0)\n",
            "Requirement already satisfied: pyparsing!=3.0.5,>=2.0.2 in /usr/local/lib/python3.7/dist-packages (from packaging>=21.3->pytesseract) (3.0.9)\n",
            "Reading package lists... Done\n",
            "Building dependency tree       \n",
            "Reading state information... Done\n",
            "tesseract-ocr is already the newest version (4.00~git2288-10f4998a-2).\n",
            "The following package was automatically installed and is no longer required:\n",
            "  libnvidia-common-460\n",
            "Use 'sudo apt autoremove' to remove it.\n",
            "0 upgraded, 0 newly installed, 0 to remove and 5 not upgraded.\n"
          ]
        }
      ]
    },
    {
      "cell_type": "code",
      "source": [],
      "metadata": {
        "colab": {
          "base_uri": "https://localhost:8080/"
        },
        "id": "6cPKvuuxJS_s",
        "outputId": "a02d29d0-c0d1-47f3-c7d5-17198978d23b"
      },
      "execution_count": 25,
      "outputs": [
        {
          "output_type": "stream",
          "name": "stdout",
          "text": [
            "rm: cannot remove 'sample_data': Is a directory\n"
          ]
        }
      ]
    },
    {
      "cell_type": "markdown",
      "source": [],
      "metadata": {
        "id": "9b00_FkGuOaS"
      }
    },
    {
      "cell_type": "code",
      "execution_count": 2,
      "metadata": {
        "id": "mdvWJ4KrsqTl"
      },
      "outputs": [],
      "source": [
        "import pytesseract\n",
        "import shutil\n",
        "import os\n",
        "import random\n",
        "try:\n",
        "  from PIL import Image\n",
        "except ImportError:\n",
        "  import Image"
      ]
    },
    {
      "cell_type": "markdown",
      "source": [
        " "
      ],
      "metadata": {
        "id": "eOvljRB-A9Fa"
      }
    },
    {
      "cell_type": "code",
      "source": [
        "from re import S\n",
        "image_path_in_colab = '11_tax1.png'\n",
        "s = pytesseract.image_to_string(Image.open(image_path_in_colab))"
      ],
      "metadata": {
        "id": "P7AO1e-zs6se"
      },
      "execution_count": 12,
      "outputs": []
    },
    {
      "cell_type": "code",
      "source": [
        "!pip install pdf2image"
      ],
      "metadata": {
        "colab": {
          "base_uri": "https://localhost:8080/"
        },
        "id": "JvhsAeOmDdwL",
        "outputId": "10f50993-8b07-4082-8695-8351ac474439"
      },
      "execution_count": 7,
      "outputs": [
        {
          "output_type": "stream",
          "name": "stdout",
          "text": [
            "Looking in indexes: https://pypi.org/simple, https://us-python.pkg.dev/colab-wheels/public/simple/\n",
            "Collecting pdf2image\n",
            "  Downloading pdf2image-1.16.0-py3-none-any.whl (10 kB)\n",
            "Requirement already satisfied: pillow in /usr/local/lib/python3.7/dist-packages (from pdf2image) (9.3.0)\n",
            "Installing collected packages: pdf2image\n",
            "Successfully installed pdf2image-1.16.0\n"
          ]
        }
      ]
    },
    {
      "cell_type": "code",
      "source": [
        "!apt-get install poppler-utils "
      ],
      "metadata": {
        "colab": {
          "base_uri": "https://localhost:8080/"
        },
        "id": "MefWgMEyxi6W",
        "outputId": "443c321b-8df3-4324-a5ab-07f9a0703466"
      },
      "execution_count": 8,
      "outputs": [
        {
          "output_type": "stream",
          "name": "stdout",
          "text": [
            "Reading package lists... Done\n",
            "Building dependency tree       \n",
            "Reading state information... Done\n",
            "The following package was automatically installed and is no longer required:\n",
            "  libnvidia-common-460\n",
            "Use 'apt autoremove' to remove it.\n",
            "The following NEW packages will be installed:\n",
            "  poppler-utils\n",
            "0 upgraded, 1 newly installed, 0 to remove and 5 not upgraded.\n",
            "Need to get 154 kB of archives.\n",
            "After this operation, 613 kB of additional disk space will be used.\n",
            "Get:1 http://archive.ubuntu.com/ubuntu bionic-updates/main amd64 poppler-utils amd64 0.62.0-2ubuntu2.14 [154 kB]\n",
            "Fetched 154 kB in 0s (346 kB/s)\n",
            "Selecting previously unselected package poppler-utils.\n",
            "(Reading database ... 124038 files and directories currently installed.)\n",
            "Preparing to unpack .../poppler-utils_0.62.0-2ubuntu2.14_amd64.deb ...\n",
            "Unpacking poppler-utils (0.62.0-2ubuntu2.14) ...\n",
            "Setting up poppler-utils (0.62.0-2ubuntu2.14) ...\n",
            "Processing triggers for man-db (2.8.3-2ubuntu0.1) ...\n"
          ]
        }
      ]
    },
    {
      "cell_type": "code",
      "source": [
        "from pdf2image import convert_from_path"
      ],
      "metadata": {
        "id": "qEAdzWhgExnE"
      },
      "execution_count": 9,
      "outputs": []
    },
    {
      "cell_type": "code",
      "source": [
        "# remove it\n",
        "import os\n",
        "from os import listdir"
      ],
      "metadata": {
        "id": "dgeiOpYE-SwN"
      },
      "execution_count": 10,
      "outputs": []
    },
    {
      "cell_type": "code",
      "source": [
        "s = '7_PFS Sample 8.pdf'\n",
        "kk = convert_from_path(s)\n",
        "res = []\n",
        "for i in range(len(kk)):\n",
        "  kk[i].save('_'+s[:2]+'_'+str(i)+'.jpg')\n",
        "  res.append('_'+s[:2]+'_'+str(i)+'.jpg')\n",
        "ans = \"\"\n",
        "for i in res:\n",
        "  ans += pytesseract.image_to_string(Image.open(image_path_in_colab))\n",
        "  ans += \" \"\n",
        "ans"
      ],
      "metadata": {
        "colab": {
          "base_uri": "https://localhost:8080/",
          "height": 268
        },
        "id": "fZZLD97s-_VJ",
        "outputId": "571998d6-00a4-4c7b-ff82-291e657c1586"
      },
      "execution_count": 17,
      "outputs": [
        {
          "output_type": "execute_result",
          "data": {
            "text/plain": [
              "'Internal Revenue Service\\nUnited States Department of the Treasury\\nRequest date: MM-DD-YYYY\\nResponse Date: MM-DD-YYYY\\nTracking Number: XXXXXXXX\\n\\nTax Return Transcript\\n\\nSSN Provided: 000-00-0000\\nTax Period Ending: Dec. 31,2011\\n\\nThe following items reflect the amount as shown on the return (PR),and the amount as adjusted(PC)\\n\\nif applicable. They do not show subsequent activity on the account.\\n\\n‘SSN Provided: 000-00-0000\\nSPOUSE SSN: 00-00-0000\\n\\nName(s) SHOWN ON RETURN FIRST & LAST\\nADDRESS: 1 AVENUE DRIVE\\n\\nCITY, ST ZIP+4\\nFILING STATU! STATUS SHOWN HERE\\n\\n  \\n\\nFORM NUMBEI 1040EZ, 1040A, 1040\\nCYCLE POSTED: yyv2i10\\nRECEIVED DATE: APRIL 15, YYYY\\nREMITTANCE: $0.00\\n\\nEXEMPTION NUMBER: # OF EXPEMTIONS\\nDEPENDENT 1 NAME CTRL: FIRST/ LAST\\nDEPENDENT SSN: 00-00-0000\\nDEPENDENT 2 NAME CTRL: FIRST/ LAST\\nDEPENDENT SSN: 00-00-0000\\nDEPENDENT 3 NAME CTRL: FIRST/ LAST\\nDEPENDENT SSN: 00-00-0000\\nDEPENDENT 4 NAME CTRL: FIRST/ LAST\\nDEPENDENT SSN’ 00-00-0000\\nIDENTITY THEFT PERSONAL ID\\n\\nNUMBER:\\n\\nPREPARER SSN: 00-00-0000\\nPREPARER EIN 00-0000000\\nIncome\\n\\nWAGES, SALARIES, TIPS, ETC:\\n‘TAXABLE INTERSET INCOME: SCH B:\\n‘TAX-EXEMPT INTEREST:\\n\\nORDINARY DIVIDEND INCOME: SCH B:\\nQUALIFIED DIVIDENDS:\\n\\nREFUNDS OF STATE/LOCAL TAXES:\\n\\nALIMONY RECEIVED\\n\\nBUSINESS INCOME OR LOSS (SCHEDULE ©)\\n\\n$0.00\\n$0.00\\n$0.00\\n$0.00\\n$0.00\\n$0.00\\n$0.00\\n$0.00\\n\\n1040 LINE #\\n1-5\\n\\n \\n\\x0c '"
            ],
            "application/vnd.google.colaboratory.intrinsic+json": {
              "type": "string"
            }
          },
          "metadata": {},
          "execution_count": 17
        }
      ]
    },
    {
      "cell_type": "code",
      "source": [
        "folder_dir = '.'\n",
        "for sample in os.listdir(folder_dir):\n",
        "  if sample.lower().endswith(\".pdf\"):\n",
        "    kk = convert_from_path(sample)\n",
        "    for i in range(len(kk)):\n",
        "      kk[i].save('_'+sample[:2]+'_'+str(i)+'.jpg')"
      ],
      "metadata": {
        "id": "CoyYuAZR9h0K"
      },
      "execution_count": 18,
      "outputs": []
    },
    {
      "cell_type": "code",
      "source": [
        "# NOT USING\n",
        "\n",
        "'''folder_dir = \".\"\n",
        "i=0\n",
        "for sample in os.listdir(folder_dir):\n",
        "  i+=1\n",
        "  print(sample)\n",
        "  if sample.lower().endswith('.pdf'):\n",
        "    kk = convert_from_path(sample)\n",
        "    for i in range(len(kk)):\n",
        "      kk[i].save('_'+sample[:2]+'_'+str(i)+'.jpg')'''"
      ],
      "metadata": {
        "colab": {
          "base_uri": "https://localhost:8080/",
          "height": 89
        },
        "id": "ZdbGK6FKxrAN",
        "outputId": "63768f0c-d27e-4bb7-9f72-7320207197cb"
      },
      "execution_count": 19,
      "outputs": [
        {
          "output_type": "execute_result",
          "data": {
            "text/plain": [
              "'folder_dir = \".\"\\ni=0\\nfor sample in os.listdir(folder_dir):\\n  i+=1\\n  print(sample)\\n  if sample.lower().endswith(\\'.pdf\\'):\\n    kk = convert_from_path(sample)\\n    for i in range(len(kk)):\\n      kk[i].save(\\'_\\'+sample[:2]+\\'_\\'+str(i)+\\'.jpg\\')'"
            ],
            "application/vnd.google.colaboratory.intrinsic+json": {
              "type": "string"
            }
          },
          "metadata": {},
          "execution_count": 19
        }
      ]
    },
    {
      "cell_type": "code",
      "source": [
        "import re\n",
        "\n",
        "s.strip()\n",
        "s = re.sub('\\n', '', s)"
      ],
      "metadata": {
        "id": "0438TIJjtm3f"
      },
      "execution_count": 20,
      "outputs": []
    },
    {
      "cell_type": "code",
      "source": [
        "s"
      ],
      "metadata": {
        "colab": {
          "base_uri": "https://localhost:8080/",
          "height": 35
        },
        "id": "3apEyhIYJvMp",
        "outputId": "31fde040-4554-47a4-9f25-7cbade6dc11c"
      },
      "execution_count": 21,
      "outputs": [
        {
          "output_type": "execute_result",
          "data": {
            "text/plain": [
              "'7_PFS Sample 8.pdf'"
            ],
            "application/vnd.google.colaboratory.intrinsic+json": {
              "type": "string"
            }
          },
          "metadata": {},
          "execution_count": 21
        }
      ]
    },
    {
      "cell_type": "code",
      "source": [
        "import os\n",
        "from os import listdir\n",
        " \n",
        "# get the path/directory\n",
        "folder_dir = \".\"\n",
        "for images in os.listdir(folder_dir):\n",
        "  print(images)\n",
        "  break"
      ],
      "metadata": {
        "id": "Hy3wiP1Vt5ma",
        "colab": {
          "base_uri": "https://localhost:8080/"
        },
        "outputId": "5f1b4389-43cf-4a71-dc4e-a43054a065f1"
      },
      "execution_count": 22,
      "outputs": [
        {
          "output_type": "stream",
          "name": "stdout",
          "text": [
            ".config\n"
          ]
        }
      ]
    },
    {
      "cell_type": "code",
      "source": [
        "'''\n",
        "images = convert_from_path('example.pdf') \n",
        "for i in range(len(images)):\n",
        "    # Save pages as images in the pdf\n",
        "    images[i].save('page'+ str(i) +'.jpg', 'JPEG')\n",
        "    \n",
        "'''\n",
        "# for converting to jpg\n",
        "\n",
        "'''sample = '7_PFS Sample 4.pdf'\n",
        "if sample.endswith('.pdf'):\n",
        "  kk = convert_from_path(images)\n",
        "  for i in range(len(kk)):\n",
        "    kk[i].save(images[:2]+'_'+'.jpg')\n",
        "for i in kk:\n",
        "  print(i)'''"
      ],
      "metadata": {
        "colab": {
          "base_uri": "https://localhost:8080/",
          "height": 71
        },
        "id": "NxIMTfCJGWsp",
        "outputId": "c74da202-1c00-4cb5-b6c4-1f8f8d1f08eb"
      },
      "execution_count": null,
      "outputs": [
        {
          "output_type": "execute_result",
          "data": {
            "text/plain": [
              "\"sample = '7_PFS Sample 4.pdf'\\nif sample.endswith('.pdf'):\\n  kk = convert_from_path(images)\\n  for i in range(len(kk)):\\n    kk[i].save(images[:2]+'_'+'.jpg')\\nfor i in kk:\\n  print(i)\""
            ],
            "application/vnd.google.colaboratory.intrinsic+json": {
              "type": "string"
            }
          },
          "metadata": {},
          "execution_count": 44
        }
      ]
    },
    {
      "cell_type": "code",
      "source": [
        "import os"
      ],
      "metadata": {
        "id": "R0Q87a9yxphC"
      },
      "execution_count": 23,
      "outputs": []
    },
    {
      "cell_type": "code",
      "source": [
        "folder_dir = \".\"\n",
        "i=0\n",
        "for images in os.listdir(folder_dir):\n",
        "  print(images)\n",
        "  i+=1\n",
        "  if i==5:\n",
        "    break\n",
        "  "
      ],
      "metadata": {
        "colab": {
          "base_uri": "https://localhost:8080/"
        },
        "id": "gI16X3tpjRU8",
        "outputId": "98e9e826-d088-46e5-c43a-84e05d9a19f5"
      },
      "execution_count": 24,
      "outputs": [
        {
          "output_type": "stream",
          "name": "stdout",
          "text": [
            ".config\n",
            "_11_57.jpg\n",
            "_11_71.jpg\n",
            "_11_40.jpg\n",
            "_11_125.jpg\n"
          ]
        }
      ]
    },
    {
      "cell_type": "code",
      "source": [
        "# png, jfif, pdf, jpg, jpeg\n",
        "\n",
        "f= open(\"file.txt\",\"a\")\n",
        "\n",
        "# file to write data"
      ],
      "metadata": {
        "id": "xEfvYCLbGt4K"
      },
      "execution_count": 38,
      "outputs": []
    },
    {
      "cell_type": "code",
      "source": [
        "folder_dir = \".\"\n",
        "i=0\n",
        "pdf = []\n",
        "for images in os.listdir(folder_dir):\n",
        "  i+=1\n",
        "  if images.lower().endswith('.pdf'):\n",
        "    pdf.append(images)\n",
        "\n",
        "  if images[0]!='_' and (images.lower().endswith(\".jpg\") or images.lower().endswith(\".jpeg\") or images.lower().endswith(\".png\")):\n",
        "    image_path_in_colab = images\n",
        "    s = pytesseract.image_to_string(Image.open(image_path_in_colab))\n",
        "    k = list(images.split('_'))\n",
        "\n",
        "    s.strip()\n",
        "    s = re.sub('\\n', '', s)\n",
        "    s = k[0] + ' ' + s + '\\n'\n",
        "    f.write(s)\n",
        "    print(i,image_path_in_colab,s[:10])"
      ],
      "metadata": {
        "id": "mZgkIvv7HeSK",
        "colab": {
          "base_uri": "https://localhost:8080/"
        },
        "outputId": "aad4e07f-6016-41c3-e12d-4a3dda952888"
      },
      "execution_count": 39,
      "outputs": [
        {
          "output_type": "stream",
          "name": "stdout",
          "text": [
            "3 3_employment10.jpg 3 To,Charl\n",
            "4 6_invoice_33.png 6        A\n",
            "6 9_receipt_44.png 9 THE AIML\n",
            "7 1_bank_stmt_74__1.png 1  Page 1o\n",
            "8 9_receipt_29.png 9 THE AIML\n",
            "9 1_bank_stmt_33__1.png 1  Page 1 \n",
            "10 0_proof-of-residency-letter-21__0.jpg 0 AFFIDAVI\n",
            "11 1_bank_stmt_91__1.png 1  Page 10\n",
            "12 9_receipt_74.png 9 THE AIML\n",
            "13 9_receipt_56.png 9 THE AIML\n",
            "14 6_invoice_53.png 6        A\n",
            "15 9_receipt_8.png 9 THE AIML\n",
            "16 2_business2.png 2  ae3K=HE\n",
            "18 9_receipt_21.png 9 THE AIML\n",
            "19 9_receipt_55.png 9 THE AIML\n",
            "20 9_receipt_80.png 9 THE AIML\n",
            "21 1_bank_stmt_34__1.png 1  Page 1 \n",
            "23 1_bank_stmt_10__1.png 1 Page 1of\n",
            "24 8_resources.gonitro.jpg 8 (GENERAL\n",
            "26 5_identity3.jpg 5    \f\n",
            "\n",
            "27 9_receipt_15.png 9 THE AIML\n",
            "28 6_invoice_70.png 6  AnyComp\n",
            "29 9_receipt_67.png 9 THE AIML\n",
            "30 9_receipt_17.png 9 THE AIML\n",
            "31 6_invoice_86.png 6 AnyCompa\n",
            "32 9_receipt_95.png 9 THE AIML\n",
            "33 11_tax1.png 11 Interna\n",
            "34 9_receipt_72.png 9 THE AIML\n",
            "35 3_employment2.jpg 3 (06 Sept\n",
            "36 1_bank_stmt_41__1.png 1  Page 1 \n",
            "38 1_bank_stmt_85__1.png 1  Page 1o\n",
            "39 10_salary2.jpg 10  Salary\n",
            "40 1_bank10__1.jpg 1 251 Vate\n",
            "41 9_receipt_46.png 9 THE AIML\n",
            "42 0_proof-of-residency-letter-24__0.jpg 0 Affidavi\n",
            "43 10_salary10.jpg 10 COMPANY\n",
            "44 6_invoice_3.png 6     AnyC\n",
            "46 9_receipt_99.png 9 ~ THE AI\n",
            "47 1_bank_stmt_56__1.png 1 Paget of\n",
            "48 9_receipt_57.png 9 THE AIML\n",
            "49 6_invoice_66.png 6        A\n",
            "50 6_invoice_63.png 6        A\n",
            "51 9_receipt_79.png 9 THE AIML\n",
            "52 1_bank6__1.jpg 1 Page No.\n",
            "53 5_identity4.png 5  euro —2\n",
            "54 8_power-of-attorney-tpl.png 8 Power Of\n",
            "56 4_fund3.jpg 4  \f\n",
            "\n",
            "58 11_tax5.jpg 11 De Pee \n",
            "59 9_receipt_47.png 9 THE AIML\n",
            "60 1_bank7__1.jpg 1  \f\n",
            "\n",
            "61 1_bank5__1.jpg 1 JP MORGA\n",
            "62 1_bank_stmt_71__1.png 1  Page 1o\n",
            "63 9_receipt_66.png 9 THE AIML\n",
            "64 1_bank_stmt_47__1.png 1  Page 10\n",
            "65 6_invoice_75.png 6 AnyCompa\n",
            "66 6_invoice_97.png 6 AnyCompa\n",
            "67 6_invoice_40.png 6 AnyCompa\n",
            "68 10_salary9.jpg 10 Mr. Anj\n",
            "69 6_invoice_23.png 6        A\n",
            "71 9_receipt_33.png 9 THE AIML\n",
            "72 6_invoice_98.png 6 AnyCompa\n",
            "73 1_bank_stmt_84__1.png 1  Page 10\n",
            "74 1_bank_stmt_90__1.png 1  Page 10\n",
            "75 1_bank_stmt_5__1.png 1  Page 1 \n",
            "76 9_receipt_92.png 9 THE AIML\n",
            "77 1_bank_stmt_20__1.png 1  Page 1o\n",
            "78 1_bank_stmt_7__1.png 1  Page 1o\n",
            "79 9_receipt_6.png 9 THE AIML\n",
            "80 6_invoice_88.png 6   ——-Any\n",
            "82 6_invoice_49.png 6        A\n",
            "83 4_fund1.png 4 Verifica\n",
            "85 1_bank_stmt_45__1.png 1  Page 10\n",
            "86 6_invoice_95.png 6     AnyC\n",
            "87 4_fund2.jpg 4 [Your No\n",
            "88 6_invoice_96.png 6     AnyC\n",
            "89 6_invoice_45.png 6        A\n",
            "90 11_form9-1d30b7c45a0d75e9adca8aba9b4ee26cb55c9828495ba17962d2f4033b56764c.jpg 11 FORM 9[\n",
            "91 1_bank_stmt_89__1.png 1  Page 1 \n",
            "92 1_bank_stmt_37__1.png 1  Page 10\n",
            "93 1_bank_stmt_53__1.png 1  Page 10\n",
            "94 9_receipt_82.png 9 THE AIML\n",
            "95 6_invoice_35.png 6        A\n",
            "96 6_invoice_36.png 6      Any\n",
            "97 6_invoice_69.png 6 AnyCompa\n",
            "98 1_bank_stmt_19__1.png 1  Page 1 \n",
            "99 9_receipt_49.png 9 THE AIML\n",
            "100 1_bank_stmt_65__1.png 1  Page 1 \n",
            "101 3_employment4.jpg 3 EMPLOYME\n",
            "102 6_invoice_90.png 6 AnyCompa\n",
            "103 3_employment7.jpg 3 SAMPLE E\n",
            "106 11_tax2.jpg 11   ‘SAMP\n",
            "107 9_receipt_78.png 9 THE AIML\n",
            "108 6_invoice_46.png 6 AnyCompa\n",
            "109 9_receipt_77.png 9 THE AIML\n",
            "110 1_bank_stmt_24__1.png 1  Page 1o\n",
            "111 6_invoice_56.png 6        A\n",
            "112 9_receipt_36.png 9 THE AIML\n",
            "113 6_invoice_18.png 6        A\n",
            "114 1_bank_stmt_58__1.png 1 Page 10f\n",
            "115 9_receipt_43.png 9 THE AIML\n",
            "116 6_invoice_37.png 6       An\n",
            "117 3_employment9.jpg 3 Letter f\n",
            "118 9_receipt_42.png 9 THE AIML\n",
            "119 6_invoice_6.png 6 AnyCompa\n",
            "120 6_invoice_91.png 6 AnyCompa\n",
            "121 9_receipt_27.png 9 THE AIML\n",
            "122 1_bank_stmt_14__1.png 1  Page 1o\n",
            "123 1_bank_stmt_83__1.png 1  Page t \n",
            "124 1_bank_stmt_57__1.png 1  Page 1o\n",
            "125 1_bank_stmt_59__1.png 1  Page 1 \n",
            "126 1_bank_stmt_68__1.png 1  Page 10\n",
            "128 6_invoice_44.png 6        A\n",
            "129 6_invoice_11.png 6 AnyCompa\n",
            "130 5_voter information card.png 5   VOTER \n",
            "131 9_receipt_63.png 9 THE AIML\n",
            "133 0_address-proof-letter-for-employee_1__0.png 0 ADDRESS \n",
            "135 3_employment3.jpg 3 3/15/201\n",
            "136 1_bank_stmt_42__1.png 1  Page 10\n",
            "137 1_bank_stmt_0__1.png 1  Page 1o\n",
            "138 6_invoice_48.png 6 AnyCompa\n",
            "140 9_receipt_84.png 9 THE AINL\n",
            "141 1_bank_stmt_92__1.png 1  Page 10\n",
            "142 1_bank_stmt_25__1.png 1  Page 1o\n",
            "143 9_receipt_11.png 9 THE AIML\n",
            "144 10_download.png 10 \f\n",
            "\n",
            "145 6_invoice_0.png 6        A\n",
            "146 1_bank_stmt_62__1.png 1  Page 1o\n",
            "147 6_invoice_20.png 6       An\n",
            "148 6_invoice_43.png 6   AnyCom\n",
            "149 9_receipt_39.png 9 THE AIML\n",
            "150 0_Address__0.jpg 0 Date: 23\n",
            "151 6_invoice_5.png 6      Any\n",
            "152 9_receipt_85.png 9 THE AIML\n",
            "157 9_receipt_90.png 9 THE AIML\n",
            "158 1_bank_stmt_3__1.png 1  Page 1 \n",
            "160 1_bank_stmt_1__1.png 1  Page 1 \n",
            "161 6_invoice_93.png 6       An\n",
            "162 1_bank4__1.jpg 1      raw\n",
            "163 1_bank_stmt_81__1.png 1  Page 1o\n",
            "164 9_receipt_14.png 9 _ THE AI\n",
            "165 6_invoice_57.png 6        A\n",
            "166 6_invoice_87.png 6       An\n",
            "167 11_tax7.jpg 11 ¥i9) In\n",
            "168 1_bank_stmt_49__1.png 1  Page 10\n",
            "169 1_bank_stmt_12__1.png 1 Page 10f\n",
            "170 9_receipt_7.png 9 THE AIML\n",
            "173 9_receipt_16.png 9 THE AIML\n",
            "174 9_receipt_83.png 9 THE AIML\n",
            "175 5_identity6.jpg 5 =GND0023\n",
            "176 6_invoice_99.png 6       An\n",
            "177 11_tax4.jpg 11 180ae16\n",
            "179 10_salary3.jpg 10 COMPANY\n",
            "180 9_receipt_54.png 9 THE AIML\n",
            "181 9_receipt_30.png 9 THE AIML\n",
            "182 9_receipt_20.png 9 THE AIML\n",
            "183 6_invoice_22.png 6     AnyC\n",
            "184 9_receipt_25.png 9 THE AIML\n",
            "185 9_receipt_5.png 9 THE AIML\n",
            "186 1_bank11__1.png 1 Sample L\n",
            "187 1_bank_stmt_96__1.png 1  Page 10\n",
            "188 9_receipt_52.png 9 THE AIML\n",
            "189 6_invoice_68.png 6 AnyCompa\n",
            "190 6_invoice_19.png 6      Any\n",
            "191 9_receipt_76.png 9 THE AIML\n",
            "192 1_bank_stmt_64__1.png 1  Page 1 \n",
            "193 6_invoice_7.png 6        A\n",
            "194 2_business4.jpg 2  NAGASWA\n",
            "195 1_bank_stmt_22__1.png 1  Page 1o\n",
            "196 6_invoice_2.png 6       An\n",
            "197 1_bank_stmt_32__1.png 1  Page 1 \n",
            "198 1_bank2__1.jpg 1 BANK STA\n",
            "200 8_unlimited-power-of-attorney-D1041.png 8 UNLIMITE\n",
            "201 6_invoice_29.png 6      Any\n",
            "202 1_bank_stmt_28__1.png 1  Page 10\n",
            "203 1_bank_stmt_52__1.png 1  Page 1 \n",
            "204 11_tax6.jpg 11 a Inter\n",
            "205 9_receipt_37.png 9 THE AIML\n",
            "206 6_invoice_13.png 6 AnyCompa\n",
            "207 10_salary7.jpg 10 Payslip\n",
            "208 6_invoice_12.png 6        A\n",
            "209 1_bank9__1.jpg 1   BANK S\n",
            "210 9_receipt_69.png 9 THE AIML\n",
            "211 8_12b0e7228e3d1798608e77739761c851.jpg 8 Power of\n",
            "212 5_39429483.png 5   \f\n",
            "\n",
            "213 1_bank_stmt_78__1.png 1  Page 10\n",
            "214 9_receipt_51.png 9 THE AIML\n",
            "215 9_receipt_0.png 9 THE AIML\n",
            "216 6_invoice_32.png 6 AnyCompa\n",
            "217 6_invoice_51.png 6      Any\n",
            "219 1_bank_stmt_70__1.png 1  Page 10\n",
            "221 9_receipt_64.png 9 THE AIML\n",
            "222 6_invoice_34.png 6     AnyC\n",
            "223 1_bank8__1.jpg 1  ‘7)1S04\n",
            "225 1_bank_stmt_43__1.png 1  Page 1 \n",
            "227 6_invoice_84.png 6       An\n",
            "228 1_bank_stmt_13__1.png 1  Page 1o\n",
            "229 1_bank_stmt_31__1.png 1  Page 1o\n",
            "230 5_identity.jpg 5  Be *®'5\n",
            "232 1_bank_stmt_44__1.png 1  Page 1o\n",
            "233 6_invoice_54.png 6 AnyCompa\n",
            "234 9_receipt_19.png 9 THE AIML\n",
            "235 6_invoice_59.png 6     ; —-\n",
            "236 6_invoice_31.png 6      . —\n",
            "237 9_receipt_75.png 9 THE AIML\n",
            "238 1_bank_stmt_38__1.png 1  Page 1 \n",
            "239 1_bank_stmt_99__1.png 1  Page 1o\n",
            "240 1_bank_stmt_23__1.png 1  Page 10\n",
            "241 6_invoice_73.png 6 ——=     \n",
            "242 6_invoice_81.png 6     AnyC\n",
            "243 6_invoice_14.png 6        A\n",
            "244 9_receipt_88.png 9 THE AIML\n",
            "246 1_bank_stmt_35__1.png 1  Page 1 \n",
            "247 6_invoice_27.png 6      Any\n",
            "248 9_receipt_96.png 9 THE AIML\n",
            "250 6_invoice_60.png 6        A\n",
            "251 6_invoice_39.png 6        A\n",
            "252 1_bank_stmt_40__1.png 1  Page 10\n",
            "253 6_invoice_17.png 6        A\n",
            "254 6_invoice_55.png 6 AnyCompa\n",
            "255 2_business3.jpg 2 i LEGALS\n",
            "257 1_bank_stmt_4__1.png 1  Page 10\n",
            "258 1_bank_stmt_94__1.png 1  Page 1o\n",
            "260 1_bank_stmt_76__1.png 1 Page 1of\n",
            "261 6_invoice_26.png 6  AnyComp\n",
            "262 6_invoice_21.png 6 AnyCompa\n",
            "263 6_invoice_8.png 6   AnyCom\n",
            "264 9_receipt_22.png 9 THE AIML\n",
            "265 1_bank_stmt_51__1.png 1 Page 10f\n",
            "266 1_bank_stmt_77__1.png 1  Page 10\n",
            "267 8_main-qimg-02cad7b11a938b49a2f9a415357eca14-lq.jpg 8 POWER OF\n",
            "268 9_receipt_71.png 9 THE AIML\n",
            "269 9_receipt_87.png 9 THE AIML\n",
            "270 9_receipt_18.png 9 THE AIML\n",
            "271 6_invoice_74.png 6       An\n",
            "272 3_LETTER-OF-EMPLOYMENT.jpg 3 Sat of L\n",
            "274 6_invoice_16.png 6  ———AnyC\n",
            "275 1_bank1__1.png 1 «J FIRST\n",
            "276 9_receipt_26.png 9 THE AIML\n",
            "277 9_receipt_98.png 9 THE AIML\n",
            "278 10_salary6.jpg 10 ‘Addres\n",
            "280 9_receipt_81.png 9 THE AINL\n",
            "281 9_receipt_13.png 9 THE AIML\n",
            "282 1_bank_stmt_86__1.png 1  Page 1 \n",
            "283 9_receipt_48.png 9 THE AIML\n",
            "286 6_invoice_85.png 6        c\n",
            "287 1_bank_stmt_50__1.png 1  Page 1o\n",
            "288 9_download.jpg 9 Exes    \n",
            "289 6_invoice_80.png 6 AnyCompa\n",
            "290 9_receipt_59.png 9 THE AIML\n",
            "291 6_invoice_94.png 6 AnyCompa\n",
            "293 1_bank_stmt_69__1.png 1  Page 10\n",
            "294 1_bank_stmt_21__1.png 1  Page 1o\n",
            "295 1_bank_stmt_17__1.png 1  Page 1o\n",
            "296 6_invoice_76.png 6  AnyComp\n",
            "297 9_receipt_24.png 9 THE AIML\n",
            "298 0_proof-of-residency-letter-09__0.jpg 0 STATE OF\n",
            "299 1_bank_stmt_97__1.png 1  Page 1o\n",
            "300 9_receipt_94.png 9 THE AINL\n",
            "301 1_bank_stmt_15__1.png 1  Page 10\n",
            "302 1_bank_stmt_60__1.png 1  Page 1o\n",
            "303 1_bank3__1.jpg 1 231 Vall\n",
            "304 5_identity2.jpg 5   This i\n",
            "305 9_receipt_58.png 9 THE AIML\n",
            "307 1_bank_stmt_16__1.png 1  Page 1 \n",
            "308 1_bank_stmt_39__1.png 1  Page 10\n",
            "309 2_business1.png 2 GOVERNME\n",
            "310 9_receipt_60.png 9 THE AIML\n",
            "311 1_bank_stmt_46__1.png 1  Page 1o\n",
            "312 9_receipt_86.png 9 THE AIML\n",
            "313 6_invoice_25.png 6        A\n",
            "314 9_receipt_4.png 9 THE AIML\n",
            "315 6_invoice_24.png 6         \n",
            "317 1_bank_stmt_63__1.png 1  Page 1o\n",
            "318 6_invoice_58.png 6 AnyCompa\n",
            "319 0_Address3__0.png 0 HR Addre\n",
            "321 10_salary4.jpg 10   PAISA\n",
            "324 6_invoice_41.png 6 AnyCompa\n",
            "325 0_Address2__0.jpg 0  INDIA N\n",
            "326 6_invoice_78.png 6 AnyCompa\n",
            "327 1_bank_stmt_93__1.png 1  Page 1 \n",
            "328 1_bank_stmt_79__1.png 1  Page 1 \n",
            "329 1_bank_stmt_9__1.png 1 Page 10f\n",
            "330 1_bank_stmt_75__1.png 1  Page 1o\n",
            "331 6_invoice_72.png 6       An\n",
            "332 3_employment6.png 3 VERIFICA\n",
            "333 3_employment5.jpg 3 3/15/201\n",
            "334 6_invoice_30.png 6 AnyCompa\n",
            "335 9_receipt_70.png 9 ‘THE AIM\n",
            "336 0_Address4__0.jpg 0 By Speed\n",
            "337 6_invoice_62.png 6        A\n",
            "338 1_bank_stmt_73__1.png 1  Page 10\n",
            "339 11_tax8.jpg 11 i) Inte\n",
            "340 9_receipt_65.png 9 THE AIML\n",
            "341 9_receipt_23.png 9 THE AIML\n",
            "342 9_receipt_91.png 9 THE AIML\n",
            "343 1_bank_stmt_29__1.png 1  Page 1 \n",
            "345 10_salary8.jpg 10  ‘Abc L\n",
            "346 6_invoice_79.png 6       An\n",
            "347 6_invoice_92.png 6        A\n",
            "349 5_identity5.jpg 5 0000 111\n",
            "350 1_bank_stmt_27__1.png 1  Page 10\n",
            "352 6_invoice_38.png 6        A\n",
            "353 9_receipt_68.png 9 THE AIML\n",
            "355 1_bank_stmt_18__1.png 1 Page 1 o\n",
            "356 1_bank_stmt_87__1.png 1  Page 1 \n",
            "358 6_invoice_67.png 6 AnyCompa\n",
            "359 6_invoice_61.png 6      Any\n",
            "360 1_bank_stmt_11__1.png 1  Page 1 \n",
            "361 2_business5.jpg 2 How to S\n",
            "362 6_invoice_10.png 6        A\n",
            "364 1_bank_stmt_36__1.png 1  Page 1 \n",
            "365 1_bank_stmt_95__1.png 1 Page 1 o\n",
            "367 9_receipt_45.png 9 THE AIML\n",
            "369 6_invoice_4.png 6 AnyCompa\n",
            "370 9_receipt_38.png 9 THE AIML\n",
            "371 9_receipt_53.png 9 THE AIML\n",
            "373 6_invoice_71.png 6 AnyCompa\n",
            "374 6_invoice_52.png 6 AnyCompa\n",
            "375 10_salary5.jpg 10 Company\n",
            "376 9_receipt_31.png 9 THE AIML\n",
            "377 9_receipt_35.png 9   ‘THE A\n",
            "378 6_invoice_64.png 6 AnyCompa\n",
            "379 0_proof-of-residency-letter-11__0.jpg 0 THE SCHO\n",
            "380 1_bank_stmt_2__1.png 1  Page 1 \n",
            "381 9_receipt_34.png 9 THE AIML\n",
            "382 6_invoice_82.png 6 AnyCompa\n",
            "383 1_bank_stmt_26__1.png 1  Page 1o\n",
            "384 11_tax9.png 11 ‘Wage a\n",
            "385 9_receipt_50.png 9 THE AIML\n",
            "386 1_bank_stmt_72__1.png 1  Page 10\n",
            "388 1_bank_stmt_55__1.png 1  Page 1o\n",
            "389 6_invoice_47.png 6 AnyCompa\n",
            "390 1_bank_stmt_6__1.png 1  Page 10\n",
            "391 6_invoice_83.png 6     AnyC\n",
            "392 9_receipt_97.png 9 THE AIML\n",
            "393 9_receipt_73.png 9 THE AIML\n",
            "394 9_receipt_2.png 9 THE AIML\n",
            "395 1_bank_stmt_54__1.png 1  Page 10\n",
            "396 9_receipt_62.png 9 THE AIML\n",
            "397 9_Receipt-and-Payment-Account.png 9 ‘Receipt\n",
            "398 6_invoice_77.png 6        A\n",
            "399 9_images.png 9 Library \n",
            "400 6_invoice_89.png 6 AnyCompa\n",
            "401 9_receipt_9.png 9 THE AIML\n",
            "402 6_invoice_15.png 6 AnyCompa\n",
            "403 1_bank_stmt_66__1.png 1  Page 1 \n",
            "404 1_bank_stmt_61__1.png 1  Page 10\n",
            "405 1_bank_stmt_98__1.png 1  Page 1.\n",
            "406 6_invoice_65.png 6 AnyCompa\n",
            "407 6_invoice_50.png 6       An\n",
            "408 9_receipt_41.png 9 THE AIML\n",
            "409 9_receipt_40.png 9  THE AIM\n",
            "410 9_receipt_93.png 9 THE AINL\n",
            "411 1_bank_stmt_30__1.png 1  Page 1o\n",
            "412 9_receipt_28.png 9 THE AIML\n",
            "413 9_receipt_1.png 9 THE AINL\n",
            "414 1_bank_stmt_82__1.png 1  Page 1 \n",
            "415 1_bank_stmt_88__1.png 1  Page 10\n",
            "416 1_bank_stmt_8__1.png 1  Page 1 \n",
            "417 9_receipt_3.png 9 THE AIML\n",
            "418 6_invoice_1.png 6  AnyComp\n",
            "419 1_bank_stmt_80__1.png 1  Page 1 \n",
            "420 6_invoice_9.png 6 AnyCompa\n",
            "421 9_receipt_12.png 9 THE AIML\n",
            "422 10_salary1.jpg 10   COMPA\n",
            "423 9_receipt_89.png 9 THE AIML\n",
            "424 6_invoice_42.png 6       An\n",
            "425 9_receipt_10.png 9 THE AIML\n",
            "427 9_receipt_32.png 9 THE AIML\n",
            "428 1_bank_stmt_67__1.png 1  Page 1o\n",
            "429 0_Proof-of-residency-letter-12__0.jpg 0 AFFIDAVI\n",
            "431 6_invoice_28.png 6       An\n",
            "433 1_bank_stmt_48__1.png 1 Page 10f\n",
            "434 9_receipt_61.png 9 THE AIML\n"
          ]
        }
      ]
    },
    {
      "cell_type": "code",
      "source": [
        "print(len(pdf))"
      ],
      "metadata": {
        "colab": {
          "base_uri": "https://localhost:8080/"
        },
        "id": "_1F35jfmTm3W",
        "outputId": "2cbb39b8-b234-4dcb-a57d-779e3c3fa56c"
      },
      "execution_count": 40,
      "outputs": [
        {
          "output_type": "stream",
          "name": "stdout",
          "text": [
            "50\n"
          ]
        }
      ]
    },
    {
      "cell_type": "code",
      "source": [
        "i=0\n",
        "for images in pdf:\n",
        "  i+=1\n",
        "  if (images.lower().endswith(\".pdf\")):\n",
        "    s = images\n",
        "    kk = convert_from_path(s)\n",
        "    res = []\n",
        "    for img in range(len(kk)):\n",
        "      kk[img].save('_'+s[:2]+'_'+str(i)+'.jpg')\n",
        "      res.append('_'+s[:2]+'_'+str(i)+'.jpg')\n",
        "    ans = []\n",
        "    for img in res:\n",
        "      ans.append(pytesseract.image_to_string(Image.open(img)))\n",
        "      ans.append(\" \")\n",
        "    s = \"\".join(ans)\n",
        "    k = list(images.split('_'))\n",
        "    s.strip()\n",
        "    s = re.sub('\\n', '', s)\n",
        "    s = k[0] + ' ' + s + '\\n'\n",
        "    f.write(s)\n",
        "    print(i,image_path_in_colab,s[:20])\n",
        "  print(i)"
      ],
      "metadata": {
        "colab": {
          "base_uri": "https://localhost:8080/"
        },
        "id": "UoX8ZX9DQQD6",
        "outputId": "645450e3-5ca3-4718-f76d-7d0a36eda91c"
      },
      "execution_count": 41,
      "outputs": [
        {
          "output_type": "stream",
          "name": "stdout",
          "text": [
            "1 9_receipt_61.png 11 Form 1065 (2021)A\n",
            "1\n",
            "2 9_receipt_61.png 11 Form 8825 (Rev. 1\n",
            "2\n",
            "3 9_receipt_61.png 7 Cash - Checking Ac\n",
            "3\n",
            "4 9_receipt_61.png 11 TKS5103  Form 104\n",
            "4\n",
            "5 9_receipt_61.png 7  me Old National P\n",
            "5\n",
            "6 9_receipt_61.png 7 Display either App\n",
            "6\n",
            "7 9_receipt_61.png 11 Schedule E (Form \n",
            "7\n",
            "8 9_receipt_61.png 11 Chinese Economic \n",
            "8\n",
            "9 9_receipt_61.png 7 State Income Adjus\n",
            "9\n",
            "10 9_receipt_61.png 7 OO IND WwW TN | =I\n",
            "10\n",
            "11 9_receipt_61.png 7 JUNE 30, 2002UNAUD\n",
            "11\n",
            "12 9_receipt_61.png 7  Name Kevin SmithB\n",
            "12\n",
            "13 9_receipt_61.png 7 Pioneer Gymnastics\n",
            "13\n",
            "14 9_receipt_61.png 11 CDR9646 CHENG DU \n",
            "14\n",
            "15 9_receipt_61.png 7 PERSONAL FINANCIAL\n",
            "15\n",
            "16 9_receipt_61.png 7  Name Jim SmithBus\n",
            "16\n",
            "17 9_receipt_61.png 11 Form 1120 (2020)B\n",
            "17\n",
            "18 9_receipt_61.png 11 Alabama Electroni\n",
            "18\n",
            "19 9_receipt_61.png 11   NHEF_ACK Acknow\n",
            "19\n",
            "20 9_receipt_61.png 7 PERSONAL FINANCIAL\n",
            "20\n",
            "21 9_receipt_61.png 11 Form 8825 (Rev. 1\n",
            "21\n",
            "22 9_receipt_61.png 11 Schedule K-1(Form\n",
            "22\n",
            "23 9_receipt_61.png 7 <Address>    HOME \n",
            "23\n",
            "24 9_receipt_61.png 11 No data was found\n",
            "24\n",
            "25 9_receipt_61.png 7 Personal Financial\n",
            "25\n",
            "26 9_receipt_61.png 11   Acknowledgement\n",
            "26\n",
            "27 9_receipt_61.png 11 TFC5905 TANG/FONG\n",
            "27\n",
            "28 9_receipt_61.png 7 PERSONAL FINANCIAL\n",
            "28\n",
            "29 9_receipt_61.png 7 The Spreadsheet Fa\n",
            "29\n",
            "30 9_receipt_61.png 7 TAC CREDIT GUARANT\n",
            "30\n",
            "31 9_receipt_61.png 11 Schedule K-1(Form\n",
            "31\n",
            "32 9_receipt_61.png 11 Form 1120-S (2020\n",
            "32\n",
            "33 9_receipt_61.png 11 MID SOUTH PETROLE\n",
            "33\n",
            "34 9_receipt_61.png 7 Residence: 423 Nor\n",
            "34\n",
            "35 9_receipt_61.png 1 £258 Commerce Bank\n",
            "35\n",
            "36 9_receipt_61.png 7   Acknowledgement \n",
            "36\n",
            "37 9_receipt_61.png 8 2. To realise and \n",
            "37\n",
            "38 9_receipt_61.png 11 Schedule C (Form \n",
            "38\n",
            "39 9_receipt_61.png 7 Pioneer Gymnastics\n",
            "39\n",
            "40 9_receipt_61.png 7 Personal Financial\n",
            "40\n",
            "41 9_receipt_61.png 11 MID SOUTH PETROLE\n",
            "41\n",
            "42 9_receipt_61.png 11 DF The Commonweal\n",
            "42\n",
            "43 9_receipt_61.png 3 Branch Code:Subjec\n",
            "43\n",
            "44 9_receipt_61.png 11   Sipsey River Oi\n",
            "44\n",
            "45 9_receipt_61.png 7 Personal Financial\n",
            "45\n",
            "46 9_receipt_61.png 7 DF The Commonwealt\n",
            "46\n",
            "47 9_receipt_61.png 11 Schedule F (Form \n",
            "47\n",
            "48 9_receipt_61.png 7 PERSONAL FINANCIAL\n",
            "48\n",
            "49 9_receipt_61.png 11 Form 1040 (2021) \n",
            "49\n",
            "50 9_receipt_61.png 7  Name John Smith B\n",
            "50\n"
          ]
        }
      ]
    },
    {
      "cell_type": "code",
      "source": [
        "f.close()"
      ],
      "metadata": {
        "id": "--hTkRYNHfM0"
      },
      "execution_count": 37,
      "outputs": []
    },
    {
      "cell_type": "code",
      "source": [],
      "metadata": {
        "id": "BZL7J3nCH4W8"
      },
      "execution_count": null,
      "outputs": []
    }
  ]
}